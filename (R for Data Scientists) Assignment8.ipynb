{
 "cells": [
  {
   "cell_type": "code",
   "execution_count": 1,
   "metadata": {
    "collapsed": false
   },
   "outputs": [
    {
     "name": "stderr",
     "output_type": "stream",
     "text": [
      "Warning message:\n",
      "\"Missing column names filled in: 'X1' [1]\"Warning message:\n",
      "\"Duplicated column names deduplicated: 'X1' => 'X1_1' [2]\"Parsed with column specification:\n",
      "cols(\n",
      "  .default = col_integer()\n",
      ")\n",
      "See spec(...) for full column specifications.\n"
     ]
    }
   ],
   "source": [
    "library(readr)\n",
    "default_of_credit_card_clients <- read_delim(\"C:/Users/dheer/Desktop/UTD/4-Spring 2017/R for Data Scientists/Assignment/7/default of credit card clients.txt\", \"\\t\", escape_double = FALSE, trim_ws = TRUE)"
   ]
  },
  {
   "cell_type": "code",
   "execution_count": 2,
   "metadata": {
    "collapsed": true
   },
   "outputs": [],
   "source": [
    "credit_card <- default_of_credit_card_clients\n",
    "credit_card$X1 <- NULL\n",
    "colnames(credit_card)[1] <- c(\"X1\")"
   ]
  },
  {
   "cell_type": "code",
   "execution_count": 3,
   "metadata": {
    "collapsed": true
   },
   "outputs": [],
   "source": [
    "credit_card$X2 <- as.factor(credit_card$X2)\n",
    "credit_card$X3 <- as.factor(credit_card$X3)\n",
    "credit_card$X4 <- as.factor(credit_card$X4)"
   ]
  },
  {
   "cell_type": "code",
   "execution_count": 4,
   "metadata": {
    "collapsed": true
   },
   "outputs": [],
   "source": [
    "levels(credit_card$X3) <- c(\"1\",\"1\",\"2\",\"3\",\"4\",\"4\",\"4\")\n",
    "levels(credit_card$X4) <- c(\"1\",\"1\",\"2\",\"3\")"
   ]
  },
  {
   "cell_type": "code",
   "execution_count": 5,
   "metadata": {
    "collapsed": false
   },
   "outputs": [
    {
     "data": {
      "text/html": [
       "<ol class=list-inline>\n",
       "\t<li>30000</li>\n",
       "\t<li>24</li>\n",
       "</ol>\n"
      ],
      "text/latex": [
       "\\begin{enumerate*}\n",
       "\\item 30000\n",
       "\\item 24\n",
       "\\end{enumerate*}\n"
      ],
      "text/markdown": [
       "1. 30000\n",
       "2. 24\n",
       "\n",
       "\n"
      ],
      "text/plain": [
       "[1] 30000    24"
      ]
     },
     "metadata": {},
     "output_type": "display_data"
    }
   ],
   "source": [
    "dim(credit_card)"
   ]
  },
  {
   "cell_type": "code",
   "execution_count": 6,
   "metadata": {
    "collapsed": false
   },
   "outputs": [
    {
     "data": {
      "text/plain": [
       "       X1          X2        X3        X4              X5       \n",
       " Min.   :  10000   1:11888   1:10599   1:13713   Min.   :21.00  \n",
       " 1st Qu.:  50000   2:18112   2:14030   2:15964   1st Qu.:28.00  \n",
       " Median : 140000             3: 4917   3:  323   Median :34.00  \n",
       " Mean   : 167484             4:  454             Mean   :35.49  \n",
       " 3rd Qu.: 240000                                 3rd Qu.:41.00  \n",
       " Max.   :1000000                                 Max.   :79.00  \n",
       "       X6                X7                X8                X9         \n",
       " Min.   :-2.0000   Min.   :-2.0000   Min.   :-2.0000   Min.   :-2.0000  \n",
       " 1st Qu.:-1.0000   1st Qu.:-1.0000   1st Qu.:-1.0000   1st Qu.:-1.0000  \n",
       " Median : 0.0000   Median : 0.0000   Median : 0.0000   Median : 0.0000  \n",
       " Mean   :-0.0167   Mean   :-0.1338   Mean   :-0.1662   Mean   :-0.2207  \n",
       " 3rd Qu.: 0.0000   3rd Qu.: 0.0000   3rd Qu.: 0.0000   3rd Qu.: 0.0000  \n",
       " Max.   : 8.0000   Max.   : 8.0000   Max.   : 8.0000   Max.   : 8.0000  \n",
       "      X10               X11               X12               X13        \n",
       " Min.   :-2.0000   Min.   :-2.0000   Min.   :-165580   Min.   :-69777  \n",
       " 1st Qu.:-1.0000   1st Qu.:-1.0000   1st Qu.:   3559   1st Qu.:  2985  \n",
       " Median : 0.0000   Median : 0.0000   Median :  22382   Median : 21200  \n",
       " Mean   :-0.2662   Mean   :-0.2911   Mean   :  51223   Mean   : 49179  \n",
       " 3rd Qu.: 0.0000   3rd Qu.: 0.0000   3rd Qu.:  67091   3rd Qu.: 64006  \n",
       " Max.   : 8.0000   Max.   : 8.0000   Max.   : 964511   Max.   :983931  \n",
       "      X14               X15               X16              X17         \n",
       " Min.   :-157264   Min.   :-170000   Min.   :-81334   Min.   :-339603  \n",
       " 1st Qu.:   2666   1st Qu.:   2327   1st Qu.:  1763   1st Qu.:   1256  \n",
       " Median :  20089   Median :  19052   Median : 18105   Median :  17071  \n",
       " Mean   :  47013   Mean   :  43263   Mean   : 40311   Mean   :  38872  \n",
       " 3rd Qu.:  60165   3rd Qu.:  54506   3rd Qu.: 50191   3rd Qu.:  49198  \n",
       " Max.   :1664089   Max.   : 891586   Max.   :927171   Max.   : 961664  \n",
       "      X18              X19               X20              X21        \n",
       " Min.   :     0   Min.   :      0   Min.   :     0   Min.   :     0  \n",
       " 1st Qu.:  1000   1st Qu.:    833   1st Qu.:   390   1st Qu.:   296  \n",
       " Median :  2100   Median :   2009   Median :  1800   Median :  1500  \n",
       " Mean   :  5664   Mean   :   5921   Mean   :  5226   Mean   :  4826  \n",
       " 3rd Qu.:  5006   3rd Qu.:   5000   3rd Qu.:  4505   3rd Qu.:  4013  \n",
       " Max.   :873552   Max.   :1684259   Max.   :896040   Max.   :621000  \n",
       "      X22                X23                 Y         \n",
       " Min.   :     0.0   Min.   :     0.0   Min.   :0.0000  \n",
       " 1st Qu.:   252.5   1st Qu.:   117.8   1st Qu.:0.0000  \n",
       " Median :  1500.0   Median :  1500.0   Median :0.0000  \n",
       " Mean   :  4799.4   Mean   :  5215.5   Mean   :0.2212  \n",
       " 3rd Qu.:  4031.5   3rd Qu.:  4000.0   3rd Qu.:0.0000  \n",
       " Max.   :426529.0   Max.   :528666.0   Max.   :1.0000  "
      ]
     },
     "metadata": {},
     "output_type": "display_data"
    }
   ],
   "source": [
    "summary(credit_card)"
   ]
  },
  {
   "cell_type": "code",
   "execution_count": 7,
   "metadata": {
    "collapsed": true
   },
   "outputs": [],
   "source": [
    "credit_card <- as.data.frame(credit_card)\n",
    "credit_card[,24] <- as.factor(credit_card[,24])"
   ]
  },
  {
   "cell_type": "code",
   "execution_count": 8,
   "metadata": {
    "collapsed": false
   },
   "outputs": [
    {
     "data": {
      "text/plain": [
       "       X1          X2        X3        X4              X5       \n",
       " Min.   :  10000   1:11888   1:10599   1:13713   Min.   :21.00  \n",
       " 1st Qu.:  50000   2:18112   2:14030   2:15964   1st Qu.:28.00  \n",
       " Median : 140000             3: 4917   3:  323   Median :34.00  \n",
       " Mean   : 167484             4:  454             Mean   :35.49  \n",
       " 3rd Qu.: 240000                                 3rd Qu.:41.00  \n",
       " Max.   :1000000                                 Max.   :79.00  \n",
       "       X6                X7                X8                X9         \n",
       " Min.   :-2.0000   Min.   :-2.0000   Min.   :-2.0000   Min.   :-2.0000  \n",
       " 1st Qu.:-1.0000   1st Qu.:-1.0000   1st Qu.:-1.0000   1st Qu.:-1.0000  \n",
       " Median : 0.0000   Median : 0.0000   Median : 0.0000   Median : 0.0000  \n",
       " Mean   :-0.0167   Mean   :-0.1338   Mean   :-0.1662   Mean   :-0.2207  \n",
       " 3rd Qu.: 0.0000   3rd Qu.: 0.0000   3rd Qu.: 0.0000   3rd Qu.: 0.0000  \n",
       " Max.   : 8.0000   Max.   : 8.0000   Max.   : 8.0000   Max.   : 8.0000  \n",
       "      X10               X11               X12               X13        \n",
       " Min.   :-2.0000   Min.   :-2.0000   Min.   :-165580   Min.   :-69777  \n",
       " 1st Qu.:-1.0000   1st Qu.:-1.0000   1st Qu.:   3559   1st Qu.:  2985  \n",
       " Median : 0.0000   Median : 0.0000   Median :  22382   Median : 21200  \n",
       " Mean   :-0.2662   Mean   :-0.2911   Mean   :  51223   Mean   : 49179  \n",
       " 3rd Qu.: 0.0000   3rd Qu.: 0.0000   3rd Qu.:  67091   3rd Qu.: 64006  \n",
       " Max.   : 8.0000   Max.   : 8.0000   Max.   : 964511   Max.   :983931  \n",
       "      X14               X15               X16              X17         \n",
       " Min.   :-157264   Min.   :-170000   Min.   :-81334   Min.   :-339603  \n",
       " 1st Qu.:   2666   1st Qu.:   2327   1st Qu.:  1763   1st Qu.:   1256  \n",
       " Median :  20089   Median :  19052   Median : 18105   Median :  17071  \n",
       " Mean   :  47013   Mean   :  43263   Mean   : 40311   Mean   :  38872  \n",
       " 3rd Qu.:  60165   3rd Qu.:  54506   3rd Qu.: 50191   3rd Qu.:  49198  \n",
       " Max.   :1664089   Max.   : 891586   Max.   :927171   Max.   : 961664  \n",
       "      X18              X19               X20              X21        \n",
       " Min.   :     0   Min.   :      0   Min.   :     0   Min.   :     0  \n",
       " 1st Qu.:  1000   1st Qu.:    833   1st Qu.:   390   1st Qu.:   296  \n",
       " Median :  2100   Median :   2009   Median :  1800   Median :  1500  \n",
       " Mean   :  5664   Mean   :   5921   Mean   :  5226   Mean   :  4826  \n",
       " 3rd Qu.:  5006   3rd Qu.:   5000   3rd Qu.:  4505   3rd Qu.:  4013  \n",
       " Max.   :873552   Max.   :1684259   Max.   :896040   Max.   :621000  \n",
       "      X22                X23           Y        \n",
       " Min.   :     0.0   Min.   :     0.0   0:23364  \n",
       " 1st Qu.:   252.5   1st Qu.:   117.8   1: 6636  \n",
       " Median :  1500.0   Median :  1500.0            \n",
       " Mean   :  4799.4   Mean   :  5215.5            \n",
       " 3rd Qu.:  4031.5   3rd Qu.:  4000.0            \n",
       " Max.   :426529.0   Max.   :528666.0            "
      ]
     },
     "metadata": {},
     "output_type": "display_data"
    }
   ],
   "source": [
    "summary(credit_card)"
   ]
  },
  {
   "cell_type": "code",
   "execution_count": 9,
   "metadata": {
    "collapsed": false
   },
   "outputs": [
    {
     "name": "stderr",
     "output_type": "stream",
     "text": [
      "Warning message:\n",
      "\"package 'randomForest' was built under R version 3.3.3\"randomForest 4.6-12\n",
      "Type rfNews() to see new features/changes/bug fixes.\n"
     ]
    }
   ],
   "source": [
    "library(\"randomForest\")\n",
    "rf.model <- randomForest(Y~., data = credit_card, mtry = 23,importance = TRUE)"
   ]
  },
  {
   "cell_type": "code",
   "execution_count": 10,
   "metadata": {
    "collapsed": false
   },
   "outputs": [
    {
     "data": {
      "text/plain": [
       "                Length Class  Mode     \n",
       "call                5  -none- call     \n",
       "type                1  -none- character\n",
       "predicted       30000  factor numeric  \n",
       "err.rate         1500  -none- numeric  \n",
       "confusion           6  -none- numeric  \n",
       "votes           60000  matrix numeric  \n",
       "oob.times       30000  -none- numeric  \n",
       "classes             2  -none- character\n",
       "importance         92  -none- numeric  \n",
       "importanceSD       69  -none- numeric  \n",
       "localImportance     0  -none- NULL     \n",
       "proximity           0  -none- NULL     \n",
       "ntree               1  -none- numeric  \n",
       "mtry                1  -none- numeric  \n",
       "forest             14  -none- list     \n",
       "y               30000  factor numeric  \n",
       "test                0  -none- NULL     \n",
       "inbag               0  -none- NULL     \n",
       "terms               3  terms  call     "
      ]
     },
     "metadata": {},
     "output_type": "display_data"
    }
   ],
   "source": [
    "summary(rf.model)"
   ]
  },
  {
   "cell_type": "code",
   "execution_count": 10,
   "metadata": {
    "collapsed": true
   },
   "outputs": [],
   "source": [
    "rf.model.pred <- predict(rf.model, credit_card, type = \"class\")"
   ]
  },
  {
   "cell_type": "code",
   "execution_count": 11,
   "metadata": {
    "collapsed": false
   },
   "outputs": [
    {
     "data": {
      "text/plain": [
       "             \n",
       "rf.model.pred     0     1\n",
       "            0 23358    15\n",
       "            1     6  6621"
      ]
     },
     "metadata": {},
     "output_type": "display_data"
    }
   ],
   "source": [
    "table(rf.model.pred, credit_card$Y)"
   ]
  },
  {
   "cell_type": "code",
   "execution_count": 12,
   "metadata": {
    "collapsed": false
   },
   "outputs": [
    {
     "data": {
      "text/html": [
       "0.9993"
      ],
      "text/latex": [
       "0.9993"
      ],
      "text/markdown": [
       "0.9993"
      ],
      "text/plain": [
       "[1] 0.9993"
      ]
     },
     "metadata": {},
     "output_type": "display_data"
    }
   ],
   "source": [
    "(23356+6623)/(23356+6623+8+13)"
   ]
  },
  {
   "cell_type": "markdown",
   "metadata": {},
   "source": [
    "#### Now we will try 10 predictors"
   ]
  },
  {
   "cell_type": "code",
   "execution_count": 13,
   "metadata": {
    "collapsed": true
   },
   "outputs": [],
   "source": [
    "rf.model.few <- randomForest(Y~., data = credit_card, mtry = 10,importance = TRUE)"
   ]
  },
  {
   "cell_type": "code",
   "execution_count": 14,
   "metadata": {
    "collapsed": true
   },
   "outputs": [],
   "source": [
    "rf.model.few.pred <- predict(rf.model.few, credit_card, type = \"class\")"
   ]
  },
  {
   "cell_type": "code",
   "execution_count": 15,
   "metadata": {
    "collapsed": false
   },
   "outputs": [
    {
     "data": {
      "text/plain": [
       "                 \n",
       "rf.model.few.pred     0     1\n",
       "                0 23357    30\n",
       "                1     7  6606"
      ]
     },
     "metadata": {},
     "output_type": "display_data"
    }
   ],
   "source": [
    "table(rf.model.few.pred, credit_card$Y)"
   ]
  },
  {
   "cell_type": "markdown",
   "metadata": {},
   "source": [
    "#### Now we will divide into train and test"
   ]
  },
  {
   "cell_type": "code",
   "execution_count": 11,
   "metadata": {
    "collapsed": false
   },
   "outputs": [
    {
     "data": {
      "text/plain": [
       "             \n",
       "rf.model.pred    0    1\n",
       "            0 4372  823\n",
       "            1  295  510"
      ]
     },
     "metadata": {},
     "output_type": "display_data"
    }
   ],
   "source": [
    "train <- sample(30000, 24000)\n",
    "rf.model <- randomForest(Y~., data = credit_card, subset = train, mtry = 23, importance = TRUE)\n",
    "rf.model.pred <- predict(rf.model, credit_card[-train,], type = \"class\")\n",
    "table(rf.model.pred, credit_card[-train,]$Y)"
   ]
  },
  {
   "cell_type": "code",
   "execution_count": 17,
   "metadata": {
    "collapsed": false
   },
   "outputs": [
    {
     "data": {
      "text/plain": [
       "             \n",
       "rf.model.pred    0    1\n",
       "            0 4400  833\n",
       "            1  266  501"
      ]
     },
     "metadata": {},
     "output_type": "display_data"
    }
   ],
   "source": [
    "rf.model <- randomForest(Y~., data = credit_card, subset = train, mtry = 10, importance = TRUE)\n",
    "rf.model.pred <- predict(rf.model, credit_card[-train,], type = \"class\")\n",
    "table(rf.model.pred, credit_card[-train,]$Y)"
   ]
  },
  {
   "cell_type": "code",
   "execution_count": 18,
   "metadata": {
    "collapsed": false
   },
   "outputs": [
    {
     "data": {
      "text/html": [
       "0.813833333333333"
      ],
      "text/latex": [
       "0.813833333333333"
      ],
      "text/markdown": [
       "0.813833333333333"
      ],
      "text/plain": [
       "[1] 0.8138333"
      ]
     },
     "metadata": {},
     "output_type": "display_data"
    }
   ],
   "source": [
    "(4377+506)/(4377+506+287+830)"
   ]
  },
  {
   "cell_type": "code",
   "execution_count": 19,
   "metadata": {
    "collapsed": false
   },
   "outputs": [
    {
     "data": {
      "text/html": [
       "<table>\n",
       "<thead><tr><th></th><th scope=col>0</th><th scope=col>1</th><th scope=col>MeanDecreaseAccuracy</th><th scope=col>MeanDecreaseGini</th></tr></thead>\n",
       "<tbody>\n",
       "\t<tr><th scope=row>X1</th><td> 25.196482 </td><td> 19.0727467</td><td> 32.192655 </td><td>473.63280  </td></tr>\n",
       "\t<tr><th scope=row>X2</th><td>  3.954007 </td><td>  1.7579449</td><td>  4.469540 </td><td> 67.86227  </td></tr>\n",
       "\t<tr><th scope=row>X3</th><td>  3.059373 </td><td>  0.1949260</td><td>  2.699114 </td><td>147.59947  </td></tr>\n",
       "\t<tr><th scope=row>X4</th><td> 13.996367 </td><td> -0.9942568</td><td> 11.848815 </td><td> 80.61739  </td></tr>\n",
       "\t<tr><th scope=row>X5</th><td> 25.189381 </td><td>  3.5382108</td><td> 24.646319 </td><td>572.49991  </td></tr>\n",
       "\t<tr><th scope=row>X6</th><td>104.808153 </td><td>103.1193337</td><td>170.545753 </td><td>959.66617  </td></tr>\n",
       "\t<tr><th scope=row>X7</th><td> 38.862818 </td><td>  7.6578077</td><td> 44.953124 </td><td>392.51770  </td></tr>\n",
       "\t<tr><th scope=row>X8</th><td> 32.486858 </td><td>  6.3657383</td><td> 37.066539 </td><td>215.97826  </td></tr>\n",
       "\t<tr><th scope=row>X9</th><td> 35.134408 </td><td>  2.6874633</td><td> 39.063918 </td><td>150.17815  </td></tr>\n",
       "\t<tr><th scope=row>X10</th><td> 25.513833 </td><td>  8.3707234</td><td> 32.677213 </td><td>120.96218  </td></tr>\n",
       "\t<tr><th scope=row>X11</th><td> 32.241320 </td><td> 11.6573276</td><td> 41.143290 </td><td>106.11140  </td></tr>\n",
       "\t<tr><th scope=row>X12</th><td> 24.591476 </td><td> 21.3468872</td><td> 38.104866 </td><td>525.41072  </td></tr>\n",
       "\t<tr><th scope=row>X13</th><td> 46.080029 </td><td>-12.4406725</td><td> 50.669460 </td><td>428.35365  </td></tr>\n",
       "\t<tr><th scope=row>X14</th><td> 51.471213 </td><td> -8.4879262</td><td> 56.612470 </td><td>405.51292  </td></tr>\n",
       "\t<tr><th scope=row>X15</th><td> 50.639907 </td><td>-10.4154293</td><td> 56.355267 </td><td>392.58728  </td></tr>\n",
       "\t<tr><th scope=row>X16</th><td> 37.645302 </td><td> -0.4275824</td><td> 46.220450 </td><td>388.32278  </td></tr>\n",
       "\t<tr><th scope=row>X17</th><td> 30.390762 </td><td> 12.5703590</td><td> 43.654130 </td><td>404.64895  </td></tr>\n",
       "\t<tr><th scope=row>X18</th><td> 33.485665 </td><td> -7.1416686</td><td> 36.178147 </td><td>422.37649  </td></tr>\n",
       "\t<tr><th scope=row>X19</th><td> 30.371781 </td><td>  5.3347718</td><td> 35.297096 </td><td>402.45631  </td></tr>\n",
       "\t<tr><th scope=row>X20</th><td> 29.952019 </td><td> 10.5399469</td><td> 39.211426 </td><td>400.23861  </td></tr>\n",
       "\t<tr><th scope=row>X21</th><td> 25.642427 </td><td> 11.8749954</td><td> 35.477774 </td><td>369.07417  </td></tr>\n",
       "\t<tr><th scope=row>X22</th><td> 34.094939 </td><td>  7.1482942</td><td> 42.735319 </td><td>373.16120  </td></tr>\n",
       "\t<tr><th scope=row>X23</th><td> 31.125665 </td><td> 10.8754474</td><td> 37.093409 </td><td>401.44031  </td></tr>\n",
       "</tbody>\n",
       "</table>\n"
      ],
      "text/latex": [
       "\\begin{tabular}{r|llll}\n",
       "  & 0 & 1 & MeanDecreaseAccuracy & MeanDecreaseGini\\\\\n",
       "\\hline\n",
       "\tX1 &  25.196482  &  19.0727467 &  32.192655  & 473.63280  \\\\\n",
       "\tX2 &   3.954007  &   1.7579449 &   4.469540  &  67.86227  \\\\\n",
       "\tX3 &   3.059373  &   0.1949260 &   2.699114  & 147.59947  \\\\\n",
       "\tX4 &  13.996367  &  -0.9942568 &  11.848815  &  80.61739  \\\\\n",
       "\tX5 &  25.189381  &   3.5382108 &  24.646319  & 572.49991  \\\\\n",
       "\tX6 & 104.808153  & 103.1193337 & 170.545753  & 959.66617  \\\\\n",
       "\tX7 &  38.862818  &   7.6578077 &  44.953124  & 392.51770  \\\\\n",
       "\tX8 &  32.486858  &   6.3657383 &  37.066539  & 215.97826  \\\\\n",
       "\tX9 &  35.134408  &   2.6874633 &  39.063918  & 150.17815  \\\\\n",
       "\tX10 &  25.513833  &   8.3707234 &  32.677213  & 120.96218  \\\\\n",
       "\tX11 &  32.241320  &  11.6573276 &  41.143290  & 106.11140  \\\\\n",
       "\tX12 &  24.591476  &  21.3468872 &  38.104866  & 525.41072  \\\\\n",
       "\tX13 &  46.080029  & -12.4406725 &  50.669460  & 428.35365  \\\\\n",
       "\tX14 &  51.471213  &  -8.4879262 &  56.612470  & 405.51292  \\\\\n",
       "\tX15 &  50.639907  & -10.4154293 &  56.355267  & 392.58728  \\\\\n",
       "\tX16 &  37.645302  &  -0.4275824 &  46.220450  & 388.32278  \\\\\n",
       "\tX17 &  30.390762  &  12.5703590 &  43.654130  & 404.64895  \\\\\n",
       "\tX18 &  33.485665  &  -7.1416686 &  36.178147  & 422.37649  \\\\\n",
       "\tX19 &  30.371781  &   5.3347718 &  35.297096  & 402.45631  \\\\\n",
       "\tX20 &  29.952019  &  10.5399469 &  39.211426  & 400.23861  \\\\\n",
       "\tX21 &  25.642427  &  11.8749954 &  35.477774  & 369.07417  \\\\\n",
       "\tX22 &  34.094939  &   7.1482942 &  42.735319  & 373.16120  \\\\\n",
       "\tX23 &  31.125665  &  10.8754474 &  37.093409  & 401.44031  \\\\\n",
       "\\end{tabular}\n"
      ],
      "text/markdown": [
       "\n",
       "| <!--/--> | 0 | 1 | MeanDecreaseAccuracy | MeanDecreaseGini | \n",
       "|---|---|---|---|---|---|---|---|---|---|---|---|---|---|---|---|---|---|---|---|---|---|---|\n",
       "| X1 |  25.196482  |  19.0727467 |  32.192655  | 473.63280   | \n",
       "| X2 |   3.954007  |   1.7579449 |   4.469540  |  67.86227   | \n",
       "| X3 |   3.059373  |   0.1949260 |   2.699114  | 147.59947   | \n",
       "| X4 |  13.996367  |  -0.9942568 |  11.848815  |  80.61739   | \n",
       "| X5 |  25.189381  |   3.5382108 |  24.646319  | 572.49991   | \n",
       "| X6 | 104.808153  | 103.1193337 | 170.545753  | 959.66617   | \n",
       "| X7 |  38.862818  |   7.6578077 |  44.953124  | 392.51770   | \n",
       "| X8 |  32.486858  |   6.3657383 |  37.066539  | 215.97826   | \n",
       "| X9 |  35.134408  |   2.6874633 |  39.063918  | 150.17815   | \n",
       "| X10 |  25.513833  |   8.3707234 |  32.677213  | 120.96218   | \n",
       "| X11 |  32.241320  |  11.6573276 |  41.143290  | 106.11140   | \n",
       "| X12 |  24.591476  |  21.3468872 |  38.104866  | 525.41072   | \n",
       "| X13 |  46.080029  | -12.4406725 |  50.669460  | 428.35365   | \n",
       "| X14 |  51.471213  |  -8.4879262 |  56.612470  | 405.51292   | \n",
       "| X15 |  50.639907  | -10.4154293 |  56.355267  | 392.58728   | \n",
       "| X16 |  37.645302  |  -0.4275824 |  46.220450  | 388.32278   | \n",
       "| X17 |  30.390762  |  12.5703590 |  43.654130  | 404.64895   | \n",
       "| X18 |  33.485665  |  -7.1416686 |  36.178147  | 422.37649   | \n",
       "| X19 |  30.371781  |   5.3347718 |  35.297096  | 402.45631   | \n",
       "| X20 |  29.952019  |  10.5399469 |  39.211426  | 400.23861   | \n",
       "| X21 |  25.642427  |  11.8749954 |  35.477774  | 369.07417   | \n",
       "| X22 |  34.094939  |   7.1482942 |  42.735319  | 373.16120   | \n",
       "| X23 |  31.125665  |  10.8754474 |  37.093409  | 401.44031   | \n",
       "\n",
       "\n"
      ],
      "text/plain": [
       "    0          1           MeanDecreaseAccuracy MeanDecreaseGini\n",
       "X1   25.196482  19.0727467  32.192655           473.63280       \n",
       "X2    3.954007   1.7579449   4.469540            67.86227       \n",
       "X3    3.059373   0.1949260   2.699114           147.59947       \n",
       "X4   13.996367  -0.9942568  11.848815            80.61739       \n",
       "X5   25.189381   3.5382108  24.646319           572.49991       \n",
       "X6  104.808153 103.1193337 170.545753           959.66617       \n",
       "X7   38.862818   7.6578077  44.953124           392.51770       \n",
       "X8   32.486858   6.3657383  37.066539           215.97826       \n",
       "X9   35.134408   2.6874633  39.063918           150.17815       \n",
       "X10  25.513833   8.3707234  32.677213           120.96218       \n",
       "X11  32.241320  11.6573276  41.143290           106.11140       \n",
       "X12  24.591476  21.3468872  38.104866           525.41072       \n",
       "X13  46.080029 -12.4406725  50.669460           428.35365       \n",
       "X14  51.471213  -8.4879262  56.612470           405.51292       \n",
       "X15  50.639907 -10.4154293  56.355267           392.58728       \n",
       "X16  37.645302  -0.4275824  46.220450           388.32278       \n",
       "X17  30.390762  12.5703590  43.654130           404.64895       \n",
       "X18  33.485665  -7.1416686  36.178147           422.37649       \n",
       "X19  30.371781   5.3347718  35.297096           402.45631       \n",
       "X20  29.952019  10.5399469  39.211426           400.23861       \n",
       "X21  25.642427  11.8749954  35.477774           369.07417       \n",
       "X22  34.094939   7.1482942  42.735319           373.16120       \n",
       "X23  31.125665  10.8754474  37.093409           401.44031       "
      ]
     },
     "metadata": {},
     "output_type": "display_data"
    }
   ],
   "source": [
    "importance(rf.model)"
   ]
  },
  {
   "cell_type": "markdown",
   "metadata": {},
   "source": [
    "### Now we will use SVM"
   ]
  },
  {
   "cell_type": "code",
   "execution_count": 12,
   "metadata": {
    "collapsed": false
   },
   "outputs": [
    {
     "name": "stderr",
     "output_type": "stream",
     "text": [
      "Warning message:\n",
      "\"package 'e1071' was built under R version 3.3.3\""
     ]
    }
   ],
   "source": [
    "library(e1071)\n",
    "svm.model <- svm(Y~., data = credit_card[train,], kernel = \"linear\", cost = 1, scala = FALSE)"
   ]
  },
  {
   "cell_type": "code",
   "execution_count": 13,
   "metadata": {
    "collapsed": true
   },
   "outputs": [],
   "source": [
    "svm.model.pred <- predict(svm.model, credit_card[-train,])"
   ]
  },
  {
   "cell_type": "code",
   "execution_count": 14,
   "metadata": {
    "collapsed": false
   },
   "outputs": [
    {
     "data": {
      "text/plain": [
       "              \n",
       "svm.model.pred    0    1\n",
       "             0 4537  983\n",
       "             1  130  350"
      ]
     },
     "metadata": {},
     "output_type": "display_data"
    }
   ],
   "source": [
    "table(svm.model.pred, credit_card[-train,]$Y)"
   ]
  },
  {
   "cell_type": "code",
   "execution_count": 23,
   "metadata": {
    "collapsed": false
   },
   "outputs": [
    {
     "data": {
      "text/html": [
       "0.809833333333333"
      ],
      "text/latex": [
       "0.809833333333333"
      ],
      "text/markdown": [
       "0.809833333333333"
      ],
      "text/plain": [
       "[1] 0.8098333"
      ]
     },
     "metadata": {},
     "output_type": "display_data"
    }
   ],
   "source": [
    "(4519+340)/(4519+996+145+340)"
   ]
  },
  {
   "cell_type": "code",
   "execution_count": 24,
   "metadata": {
    "collapsed": false
   },
   "outputs": [
    {
     "data": {
      "text/html": [
       "0.811666666666667"
      ],
      "text/latex": [
       "0.811666666666667"
      ],
      "text/markdown": [
       "0.811666666666667"
      ],
      "text/plain": [
       "[1] 0.8116667"
      ]
     },
     "metadata": {},
     "output_type": "display_data"
    }
   ],
   "source": [
    "mean(svm.model.pred == credit_card[-train,]$Y)"
   ]
  },
  {
   "cell_type": "code",
   "execution_count": 25,
   "metadata": {
    "collapsed": true
   },
   "outputs": [],
   "source": [
    "svm.model <- svm(Y~., data = credit_card[train,], kernel = \"linear\", cost = 1, scala = TRUE)"
   ]
  },
  {
   "cell_type": "code",
   "execution_count": 26,
   "metadata": {
    "collapsed": true
   },
   "outputs": [],
   "source": [
    "svm.model.pred <- predict(svm.model, credit_card[-train,])"
   ]
  },
  {
   "cell_type": "code",
   "execution_count": 27,
   "metadata": {
    "collapsed": false
   },
   "outputs": [
    {
     "data": {
      "text/plain": [
       "              \n",
       "svm.model.pred    0    1\n",
       "             0 4546 1010\n",
       "             1  120  324"
      ]
     },
     "metadata": {},
     "output_type": "display_data"
    }
   ],
   "source": [
    "table(svm.model.pred, credit_card[-train,]$Y)"
   ]
  },
  {
   "cell_type": "code",
   "execution_count": 28,
   "metadata": {
    "collapsed": false
   },
   "outputs": [
    {
     "data": {
      "text/html": [
       "0.811666666666667"
      ],
      "text/latex": [
       "0.811666666666667"
      ],
      "text/markdown": [
       "0.811666666666667"
      ],
      "text/plain": [
       "[1] 0.8116667"
      ]
     },
     "metadata": {},
     "output_type": "display_data"
    }
   ],
   "source": [
    "mean(svm.model.pred == credit_card[-train,]$Y)"
   ]
  },
  {
   "cell_type": "markdown",
   "metadata": {},
   "source": [
    "#### No change when scaling is done."
   ]
  },
  {
   "cell_type": "code",
   "execution_count": 15,
   "metadata": {
    "collapsed": true
   },
   "outputs": [],
   "source": [
    "svm.radial = svm(Y~., data = credit_card[train,], kernel = \"radial\", gamma = 1, cost = 1)"
   ]
  },
  {
   "cell_type": "code",
   "execution_count": 16,
   "metadata": {
    "collapsed": true
   },
   "outputs": [],
   "source": [
    "svm.model.pred <- predict(svm.radial, credit_card[-train,])"
   ]
  },
  {
   "cell_type": "code",
   "execution_count": 17,
   "metadata": {
    "collapsed": false
   },
   "outputs": [
    {
     "data": {
      "text/plain": [
       "              \n",
       "svm.model.pred    0    1\n",
       "             0 4522 1079\n",
       "             1  145  254"
      ]
     },
     "metadata": {},
     "output_type": "display_data"
    }
   ],
   "source": [
    "table(svm.model.pred, credit_card[-train,]$Y)"
   ]
  },
  {
   "cell_type": "code",
   "execution_count": 18,
   "metadata": {
    "collapsed": false
   },
   "outputs": [
    {
     "data": {
      "text/html": [
       "0.796"
      ],
      "text/latex": [
       "0.796"
      ],
      "text/markdown": [
       "0.796"
      ],
      "text/plain": [
       "[1] 0.796"
      ]
     },
     "metadata": {},
     "output_type": "display_data"
    }
   ],
   "source": [
    "(4522+254) / (6000)"
   ]
  },
  {
   "cell_type": "code",
   "execution_count": null,
   "metadata": {
    "collapsed": true
   },
   "outputs": [],
   "source": []
  }
 ],
 "metadata": {
  "kernelspec": {
   "display_name": "R",
   "language": "R",
   "name": "ir"
  },
  "language_info": {
   "codemirror_mode": "r",
   "file_extension": ".r",
   "mimetype": "text/x-r-source",
   "name": "R",
   "pygments_lexer": "r",
   "version": "3.3.2"
  }
 },
 "nbformat": 4,
 "nbformat_minor": 2
}
