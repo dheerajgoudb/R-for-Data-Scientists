{
 "cells": [
  {
   "cell_type": "code",
   "execution_count": 2,
   "metadata": {
    "collapsed": false
   },
   "outputs": [
    {
     "name": "stderr",
     "output_type": "stream",
     "text": [
      "gdata: read.xls support for 'XLS' (Excel 97-2004) files ENABLED.\n",
      "\n",
      "gdata: read.xls support for 'XLSX' (Excel 2007+) files ENABLED.\n",
      "\n",
      "Attaching package: 'gdata'\n",
      "\n",
      "The following object is masked from 'package:stats':\n",
      "\n",
      "    nobs\n",
      "\n",
      "The following object is masked from 'package:utils':\n",
      "\n",
      "    object.size\n",
      "\n",
      "The following object is masked from 'package:base':\n",
      "\n",
      "    startsWith\n",
      "\n"
     ]
    }
   ],
   "source": [
    "library(gdata)"
   ]
  },
  {
   "cell_type": "code",
   "execution_count": 3,
   "metadata": {
    "collapsed": true
   },
   "outputs": [],
   "source": [
    "setwd(\"C:/Users/dheer/Desktop/UTD/4-Spring 2017/R for Data Scientists/Assignment/7\")"
   ]
  },
  {
   "cell_type": "code",
   "execution_count": 4,
   "metadata": {
    "collapsed": true
   },
   "outputs": [],
   "source": [
    "perl = \"C:/Strawberry/perl/bin/perl5.24.1.exe\"\n",
    "credit_card <- read.xls(\"default of credit card clients.xls\", perl = perl, header = TRUE)"
   ]
  },
  {
   "cell_type": "code",
   "execution_count": 5,
   "metadata": {
    "collapsed": true
   },
   "outputs": [],
   "source": [
    "credit_card <- credit_card[-1,]"
   ]
  },
  {
   "cell_type": "code",
   "execution_count": 6,
   "metadata": {
    "collapsed": true
   },
   "outputs": [],
   "source": [
    "credit_card$X <- NULL"
   ]
  },
  {
   "cell_type": "code",
   "execution_count": 7,
   "metadata": {
    "collapsed": false
   },
   "outputs": [
    {
     "data": {
      "text/html": [
       "<ol class=list-inline>\n",
       "\t<li>30000</li>\n",
       "\t<li>24</li>\n",
       "</ol>\n"
      ],
      "text/latex": [
       "\\begin{enumerate*}\n",
       "\\item 30000\n",
       "\\item 24\n",
       "\\end{enumerate*}\n"
      ],
      "text/markdown": [
       "1. 30000\n",
       "2. 24\n",
       "\n",
       "\n"
      ],
      "text/plain": [
       "[1] 30000    24"
      ]
     },
     "metadata": {},
     "output_type": "display_data"
    }
   ],
   "source": [
    "dim(credit_card)"
   ]
  },
  {
   "cell_type": "code",
   "execution_count": 8,
   "metadata": {
    "collapsed": false
   },
   "outputs": [
    {
     "data": {
      "text/plain": [
       "       X1          X2              X3               X4              X5       \n",
       " 50000  : 3365   1  :11888   2      :14030   0       :   54   29     : 1605  \n",
       " 20000  : 1976   2  :18112   1      :10585   1       :13659   27     : 1477  \n",
       " 30000  : 1610   SEX:    0   3      : 4917   2       :15964   28     : 1409  \n",
       " 80000  : 1567               5      :  280   3       :  323   30     : 1395  \n",
       " 200000 : 1528               4      :  123   MARRIAGE:    0   26     : 1256  \n",
       " 150000 : 1110               6      :   51                    31     : 1217  \n",
       " (Other):18844               (Other):   14                    (Other):21641  \n",
       "       X6              X7              X8              X9       \n",
       " 0      :14737   0      :15730   0      :15764   0      :16455  \n",
       " -1     : 5686   -1     : 6050   -1     : 5938   -1     : 5687  \n",
       " 1      : 3688   2      : 3927   -2     : 4085   -2     : 4348  \n",
       " -2     : 2759   -2     : 3782   2      : 3819   2      : 3159  \n",
       " 2      : 2667   3      :  326   3      :  240   3      :  180  \n",
       " 3      :  322   4      :   99   4      :   76   4      :   69  \n",
       " (Other):  141   (Other):   86   (Other):   78   (Other):  102  \n",
       "      X10             X11             X12             X13       \n",
       " 0      :16947   0      :16286   0      : 2008   0      : 2506  \n",
       " -1     : 5539   -1     : 5740   390    :  244   390    :  231  \n",
       " -2     : 4546   -2     : 4895   780    :   76   326    :   75  \n",
       " 2      : 2626   2      : 2766   326    :   72   780    :   75  \n",
       " 3      :  178   3      :  184   316    :   63   316    :   72  \n",
       " 4      :   84   4      :   49   2500   :   59   2500   :   51  \n",
       " (Other):   80   (Other):   80   (Other):27478   (Other):26990  \n",
       "      X14             X15             X16             X17       \n",
       " 0      : 2870   0      : 3195   0      : 3506   0      : 4020  \n",
       " 390    :  275   390    :  246   390    :  235   390    :  207  \n",
       " 780    :   74   780    :  101   780    :   94   780    :   86  \n",
       " 326    :   63   316    :   68   316    :   79   150    :   78  \n",
       " 316    :   62   326    :   62   326    :   62   316    :   77  \n",
       " 396    :   48   396    :   44   150    :   58   326    :   56  \n",
       " (Other):26608   (Other):26284   (Other):25966   (Other):25476  \n",
       "      X18             X19             X20             X21       \n",
       " 0      : 5249   0      : 5396   0      : 5968   0      : 6408  \n",
       " 2000   : 1363   2000   : 1290   2000   : 1285   1000   : 1394  \n",
       " 3000   :  891   3000   :  857   1000   : 1103   2000   : 1214  \n",
       " 5000   :  698   5000   :  717   3000   :  870   3000   :  887  \n",
       " 1500   :  507   1000   :  594   5000   :  721   5000   :  810  \n",
       " 4000   :  426   1500   :  521   1500   :  490   1500   :  441  \n",
       " (Other):20866   (Other):20625   (Other):19563   (Other):18846  \n",
       "      X22             X23                                 Y        \n",
       " 0      : 6703   0      : 7173   0                         :23364  \n",
       " 1000   : 1340   1000   : 1299   1                         : 6636  \n",
       " 2000   : 1323   2000   : 1295   default payment next month:    0  \n",
       " 3000   :  947   3000   :  914                                     \n",
       " 5000   :  814   5000   :  808                                     \n",
       " 1500   :  426   1500   :  439                                     \n",
       " (Other):18447   (Other):18072                                     "
      ]
     },
     "metadata": {},
     "output_type": "display_data"
    }
   ],
   "source": [
    "summary(credit_card)"
   ]
  },
  {
   "cell_type": "markdown",
   "metadata": {},
   "source": [
    "### We will try with other file"
   ]
  },
  {
   "cell_type": "code",
   "execution_count": 9,
   "metadata": {
    "collapsed": false
   },
   "outputs": [
    {
     "name": "stderr",
     "output_type": "stream",
     "text": [
      "Warning message:\n",
      "\"Missing column names filled in: 'X1' [1]\"Warning message:\n",
      "\"Duplicated column names deduplicated: 'X1' => 'X1_1' [2]\"Parsed with column specification:\n",
      "cols(\n",
      "  .default = col_integer()\n",
      ")\n",
      "See spec(...) for full column specifications.\n"
     ]
    }
   ],
   "source": [
    "library(readr)\n",
    "default_of_credit_card_clients <- read_delim(\"C:/Users/dheer/Desktop/UTD/4-Spring 2017/R for Data Scientists/Assignment/7/default of credit card clients.txt\", \"\\t\", escape_double = FALSE, trim_ws = TRUE)"
   ]
  },
  {
   "cell_type": "code",
   "execution_count": 10,
   "metadata": {
    "collapsed": true
   },
   "outputs": [],
   "source": [
    "credit_card <- default_of_credit_card_clients\n",
    "credit_card$X1 <- NULL\n",
    "colnames(credit_card)[1] <- c(\"X1\")"
   ]
  },
  {
   "cell_type": "code",
   "execution_count": 11,
   "metadata": {
    "collapsed": false
   },
   "outputs": [
    {
     "data": {
      "text/html": [
       "<ol class=list-inline>\n",
       "\t<li>30000</li>\n",
       "\t<li>24</li>\n",
       "</ol>\n"
      ],
      "text/latex": [
       "\\begin{enumerate*}\n",
       "\\item 30000\n",
       "\\item 24\n",
       "\\end{enumerate*}\n"
      ],
      "text/markdown": [
       "1. 30000\n",
       "2. 24\n",
       "\n",
       "\n"
      ],
      "text/plain": [
       "[1] 30000    24"
      ]
     },
     "metadata": {},
     "output_type": "display_data"
    }
   ],
   "source": [
    "dim(credit_card)"
   ]
  },
  {
   "cell_type": "code",
   "execution_count": 12,
   "metadata": {
    "collapsed": false
   },
   "outputs": [
    {
     "data": {
      "text/plain": [
       "       X1                X2              X3              X4       \n",
       " Min.   :  10000   Min.   :1.000   Min.   :0.000   Min.   :0.000  \n",
       " 1st Qu.:  50000   1st Qu.:1.000   1st Qu.:1.000   1st Qu.:1.000  \n",
       " Median : 140000   Median :2.000   Median :2.000   Median :2.000  \n",
       " Mean   : 167484   Mean   :1.604   Mean   :1.853   Mean   :1.552  \n",
       " 3rd Qu.: 240000   3rd Qu.:2.000   3rd Qu.:2.000   3rd Qu.:2.000  \n",
       " Max.   :1000000   Max.   :2.000   Max.   :6.000   Max.   :3.000  \n",
       "       X5              X6                X7                X8         \n",
       " Min.   :21.00   Min.   :-2.0000   Min.   :-2.0000   Min.   :-2.0000  \n",
       " 1st Qu.:28.00   1st Qu.:-1.0000   1st Qu.:-1.0000   1st Qu.:-1.0000  \n",
       " Median :34.00   Median : 0.0000   Median : 0.0000   Median : 0.0000  \n",
       " Mean   :35.49   Mean   :-0.0167   Mean   :-0.1338   Mean   :-0.1662  \n",
       " 3rd Qu.:41.00   3rd Qu.: 0.0000   3rd Qu.: 0.0000   3rd Qu.: 0.0000  \n",
       " Max.   :79.00   Max.   : 8.0000   Max.   : 8.0000   Max.   : 8.0000  \n",
       "       X9               X10               X11               X12         \n",
       " Min.   :-2.0000   Min.   :-2.0000   Min.   :-2.0000   Min.   :-165580  \n",
       " 1st Qu.:-1.0000   1st Qu.:-1.0000   1st Qu.:-1.0000   1st Qu.:   3559  \n",
       " Median : 0.0000   Median : 0.0000   Median : 0.0000   Median :  22382  \n",
       " Mean   :-0.2207   Mean   :-0.2662   Mean   :-0.2911   Mean   :  51223  \n",
       " 3rd Qu.: 0.0000   3rd Qu.: 0.0000   3rd Qu.: 0.0000   3rd Qu.:  67091  \n",
       " Max.   : 8.0000   Max.   : 8.0000   Max.   : 8.0000   Max.   : 964511  \n",
       "      X13              X14               X15               X16        \n",
       " Min.   :-69777   Min.   :-157264   Min.   :-170000   Min.   :-81334  \n",
       " 1st Qu.:  2985   1st Qu.:   2666   1st Qu.:   2327   1st Qu.:  1763  \n",
       " Median : 21200   Median :  20089   Median :  19052   Median : 18105  \n",
       " Mean   : 49179   Mean   :  47013   Mean   :  43263   Mean   : 40311  \n",
       " 3rd Qu.: 64006   3rd Qu.:  60165   3rd Qu.:  54506   3rd Qu.: 50191  \n",
       " Max.   :983931   Max.   :1664089   Max.   : 891586   Max.   :927171  \n",
       "      X17               X18              X19               X20        \n",
       " Min.   :-339603   Min.   :     0   Min.   :      0   Min.   :     0  \n",
       " 1st Qu.:   1256   1st Qu.:  1000   1st Qu.:    833   1st Qu.:   390  \n",
       " Median :  17071   Median :  2100   Median :   2009   Median :  1800  \n",
       " Mean   :  38872   Mean   :  5664   Mean   :   5921   Mean   :  5226  \n",
       " 3rd Qu.:  49198   3rd Qu.:  5006   3rd Qu.:   5000   3rd Qu.:  4505  \n",
       " Max.   : 961664   Max.   :873552   Max.   :1684259   Max.   :896040  \n",
       "      X21              X22                X23                 Y         \n",
       " Min.   :     0   Min.   :     0.0   Min.   :     0.0   Min.   :0.0000  \n",
       " 1st Qu.:   296   1st Qu.:   252.5   1st Qu.:   117.8   1st Qu.:0.0000  \n",
       " Median :  1500   Median :  1500.0   Median :  1500.0   Median :0.0000  \n",
       " Mean   :  4826   Mean   :  4799.4   Mean   :  5215.5   Mean   :0.2212  \n",
       " 3rd Qu.:  4013   3rd Qu.:  4031.5   3rd Qu.:  4000.0   3rd Qu.:0.0000  \n",
       " Max.   :621000   Max.   :426529.0   Max.   :528666.0   Max.   :1.0000  "
      ]
     },
     "metadata": {},
     "output_type": "display_data"
    }
   ],
   "source": [
    "summary(credit_card)"
   ]
  },
  {
   "cell_type": "code",
   "execution_count": 13,
   "metadata": {
    "collapsed": true
   },
   "outputs": [],
   "source": [
    "credit_card$X2 <- as.factor(credit_card$X2)\n",
    "credit_card$X3 <- as.factor(credit_card$X3)\n",
    "credit_card$X4 <- as.factor(credit_card$X4)"
   ]
  },
  {
   "cell_type": "code",
   "execution_count": 14,
   "metadata": {
    "collapsed": true
   },
   "outputs": [],
   "source": [
    "levels(credit_card$X3) <- c(\"1\",\"1\",\"2\",\"3\",\"4\",\"4\",\"4\")\n",
    "levels(credit_card$X4) <- c(\"1\",\"1\",\"2\",\"3\")"
   ]
  },
  {
   "cell_type": "code",
   "execution_count": 15,
   "metadata": {
    "collapsed": false
   },
   "outputs": [
    {
     "data": {
      "text/plain": [
       "       X1          X2        X3        X4              X5       \n",
       " Min.   :  10000   1:11888   1:10599   1:13713   Min.   :21.00  \n",
       " 1st Qu.:  50000   2:18112   2:14030   2:15964   1st Qu.:28.00  \n",
       " Median : 140000             3: 4917   3:  323   Median :34.00  \n",
       " Mean   : 167484             4:  454             Mean   :35.49  \n",
       " 3rd Qu.: 240000                                 3rd Qu.:41.00  \n",
       " Max.   :1000000                                 Max.   :79.00  \n",
       "       X6                X7                X8                X9         \n",
       " Min.   :-2.0000   Min.   :-2.0000   Min.   :-2.0000   Min.   :-2.0000  \n",
       " 1st Qu.:-1.0000   1st Qu.:-1.0000   1st Qu.:-1.0000   1st Qu.:-1.0000  \n",
       " Median : 0.0000   Median : 0.0000   Median : 0.0000   Median : 0.0000  \n",
       " Mean   :-0.0167   Mean   :-0.1338   Mean   :-0.1662   Mean   :-0.2207  \n",
       " 3rd Qu.: 0.0000   3rd Qu.: 0.0000   3rd Qu.: 0.0000   3rd Qu.: 0.0000  \n",
       " Max.   : 8.0000   Max.   : 8.0000   Max.   : 8.0000   Max.   : 8.0000  \n",
       "      X10               X11               X12               X13        \n",
       " Min.   :-2.0000   Min.   :-2.0000   Min.   :-165580   Min.   :-69777  \n",
       " 1st Qu.:-1.0000   1st Qu.:-1.0000   1st Qu.:   3559   1st Qu.:  2985  \n",
       " Median : 0.0000   Median : 0.0000   Median :  22382   Median : 21200  \n",
       " Mean   :-0.2662   Mean   :-0.2911   Mean   :  51223   Mean   : 49179  \n",
       " 3rd Qu.: 0.0000   3rd Qu.: 0.0000   3rd Qu.:  67091   3rd Qu.: 64006  \n",
       " Max.   : 8.0000   Max.   : 8.0000   Max.   : 964511   Max.   :983931  \n",
       "      X14               X15               X16              X17         \n",
       " Min.   :-157264   Min.   :-170000   Min.   :-81334   Min.   :-339603  \n",
       " 1st Qu.:   2666   1st Qu.:   2327   1st Qu.:  1763   1st Qu.:   1256  \n",
       " Median :  20089   Median :  19052   Median : 18105   Median :  17071  \n",
       " Mean   :  47013   Mean   :  43263   Mean   : 40311   Mean   :  38872  \n",
       " 3rd Qu.:  60165   3rd Qu.:  54506   3rd Qu.: 50191   3rd Qu.:  49198  \n",
       " Max.   :1664089   Max.   : 891586   Max.   :927171   Max.   : 961664  \n",
       "      X18              X19               X20              X21        \n",
       " Min.   :     0   Min.   :      0   Min.   :     0   Min.   :     0  \n",
       " 1st Qu.:  1000   1st Qu.:    833   1st Qu.:   390   1st Qu.:   296  \n",
       " Median :  2100   Median :   2009   Median :  1800   Median :  1500  \n",
       " Mean   :  5664   Mean   :   5921   Mean   :  5226   Mean   :  4826  \n",
       " 3rd Qu.:  5006   3rd Qu.:   5000   3rd Qu.:  4505   3rd Qu.:  4013  \n",
       " Max.   :873552   Max.   :1684259   Max.   :896040   Max.   :621000  \n",
       "      X22                X23                 Y         \n",
       " Min.   :     0.0   Min.   :     0.0   Min.   :0.0000  \n",
       " 1st Qu.:   252.5   1st Qu.:   117.8   1st Qu.:0.0000  \n",
       " Median :  1500.0   Median :  1500.0   Median :0.0000  \n",
       " Mean   :  4799.4   Mean   :  5215.5   Mean   :0.2212  \n",
       " 3rd Qu.:  4031.5   3rd Qu.:  4000.0   3rd Qu.:0.0000  \n",
       " Max.   :426529.0   Max.   :528666.0   Max.   :1.0000  "
      ]
     },
     "metadata": {},
     "output_type": "display_data"
    }
   ],
   "source": [
    "summary(credit_card)"
   ]
  },
  {
   "cell_type": "markdown",
   "metadata": {},
   "source": [
    "## Logistic Regression"
   ]
  },
  {
   "cell_type": "code",
   "execution_count": 16,
   "metadata": {
    "collapsed": false
   },
   "outputs": [
    {
     "name": "stderr",
     "output_type": "stream",
     "text": [
      "Warning message:\n",
      "\"glm.fit: fitted probabilities numerically 0 or 1 occurred\""
     ]
    }
   ],
   "source": [
    "attach(credit_card)\n",
    "credit.model <- glm(Y~.,data = credit_card, family = binomial)"
   ]
  },
  {
   "cell_type": "code",
   "execution_count": 17,
   "metadata": {
    "collapsed": false
   },
   "outputs": [
    {
     "data": {
      "text/plain": [
       "\n",
       "Call:\n",
       "glm(formula = Y ~ ., family = binomial, data = credit_card)\n",
       "\n",
       "Deviance Residuals: \n",
       "    Min       1Q   Median       3Q      Max  \n",
       "-3.1360  -0.7018  -0.5444  -0.2857   3.8689  \n",
       "\n",
       "Coefficients:\n",
       "              Estimate Std. Error z value Pr(>|z|)    \n",
       "(Intercept) -9.973e-01  8.650e-02 -11.530  < 2e-16 ***\n",
       "X1          -7.046e-07  1.578e-07  -4.466 7.98e-06 ***\n",
       "X22         -1.130e-01  3.072e-02  -3.679 0.000235 ***\n",
       "X32         -8.304e-02  3.557e-02  -2.334 0.019574 *  \n",
       "X33         -1.132e-01  4.758e-02  -2.380 0.017322 *  \n",
       "X34         -1.135e+00  1.888e-01  -6.009 1.87e-09 ***\n",
       "X42         -1.848e-01  3.461e-02  -5.340 9.28e-08 ***\n",
       "X43         -7.429e-02  1.374e-01  -0.541 0.588644    \n",
       "X5           5.557e-03  1.860e-03   2.988 0.002812 ** \n",
       "X6           5.773e-01  1.771e-02  32.604  < 2e-16 ***\n",
       "X7           8.141e-02  2.019e-02   4.032 5.54e-05 ***\n",
       "X8           7.094e-02  2.260e-02   3.138 0.001699 ** \n",
       "X9           2.269e-02  2.500e-02   0.908 0.364023    \n",
       "X10          3.437e-02  2.688e-02   1.279 0.201033    \n",
       "X11          7.321e-03  2.215e-02   0.331 0.741011    \n",
       "X12         -5.502e-06  1.138e-06  -4.836 1.33e-06 ***\n",
       "X13          2.398e-06  1.505e-06   1.593 0.111084    \n",
       "X14          1.390e-06  1.324e-06   1.050 0.293704    \n",
       "X15         -1.682e-07  1.352e-06  -0.124 0.900984    \n",
       "X16          7.767e-07  1.522e-06   0.510 0.609912    \n",
       "X17          1.800e-07  1.197e-06   0.150 0.880490    \n",
       "X18         -1.370e-05  2.309e-06  -5.936 2.91e-09 ***\n",
       "X19         -9.561e-06  2.090e-06  -4.575 4.77e-06 ***\n",
       "X20         -2.642e-06  1.720e-06  -1.536 0.124440    \n",
       "X21         -4.068e-06  1.786e-06  -2.278 0.022745 *  \n",
       "X22         -3.149e-06  1.777e-06  -1.772 0.076472 .  \n",
       "X23         -2.063e-06  1.296e-06  -1.592 0.111497    \n",
       "---\n",
       "Signif. codes:  0 '***' 0.001 '**' 0.01 '*' 0.05 '.' 0.1 ' ' 1\n",
       "\n",
       "(Dispersion parameter for binomial family taken to be 1)\n",
       "\n",
       "    Null deviance: 31705  on 29999  degrees of freedom\n",
       "Residual deviance: 27845  on 29973  degrees of freedom\n",
       "AIC: 27899\n",
       "\n",
       "Number of Fisher Scoring iterations: 6\n"
      ]
     },
     "metadata": {},
     "output_type": "display_data"
    }
   ],
   "source": [
    "summary(credit.model)"
   ]
  },
  {
   "cell_type": "code",
   "execution_count": 18,
   "metadata": {
    "collapsed": false
   },
   "outputs": [
    {
     "data": {
      "text/plain": [
       "\n",
       "Call:\n",
       "glm(formula = Y ~ . - X3 - X9 - X10 - X11 - X14 - X15 - X16 - \n",
       "    X17, family = binomial, data = credit_card)\n",
       "\n",
       "Deviance Residuals: \n",
       "    Min       1Q   Median       3Q      Max  \n",
       "-3.1397  -0.6993  -0.5471  -0.2949   3.9167  \n",
       "\n",
       "Coefficients:\n",
       "              Estimate Std. Error z value Pr(>|z|)    \n",
       "(Intercept) -1.073e+00  8.146e-02 -13.167  < 2e-16 ***\n",
       "X1          -6.054e-07  1.501e-07  -4.034 5.48e-05 ***\n",
       "X22         -1.160e-01  3.064e-02  -3.786 0.000153 ***\n",
       "X42         -1.705e-01  3.412e-02  -4.997 5.83e-07 ***\n",
       "X43         -8.586e-02  1.370e-01  -0.627 0.530820    \n",
       "X5           4.883e-03  1.807e-03   2.703 0.006873 ** \n",
       "X6           5.848e-01  1.755e-02  33.315  < 2e-16 ***\n",
       "X7           8.833e-02  1.997e-02   4.423 9.72e-06 ***\n",
       "X8           1.090e-01  1.856e-02   5.873 4.28e-09 ***\n",
       "X12         -5.848e-06  1.129e-06  -5.180 2.22e-07 ***\n",
       "X13          4.512e-06  1.176e-06   3.836 0.000125 ***\n",
       "X18         -1.453e-05  2.295e-06  -6.332 2.42e-10 ***\n",
       "X19         -7.303e-06  1.789e-06  -4.082 4.46e-05 ***\n",
       "X20         -2.415e-06  1.460e-06  -1.654 0.098122 .  \n",
       "X21         -3.543e-06  1.533e-06  -2.311 0.020818 *  \n",
       "X22         -3.292e-06  1.488e-06  -2.212 0.026959 *  \n",
       "X23         -2.247e-06  1.273e-06  -1.765 0.077487 .  \n",
       "---\n",
       "Signif. codes:  0 '***' 0.001 '**' 0.01 '*' 0.05 '.' 0.1 ' ' 1\n",
       "\n",
       "(Dispersion parameter for binomial family taken to be 1)\n",
       "\n",
       "    Null deviance: 31705  on 29999  degrees of freedom\n",
       "Residual deviance: 27915  on 29983  degrees of freedom\n",
       "AIC: 27949\n",
       "\n",
       "Number of Fisher Scoring iterations: 6\n"
      ]
     },
     "metadata": {},
     "output_type": "display_data"
    }
   ],
   "source": [
    "credit.model <- glm(Y~.-X3 -X9 -X10 -X11 -X14 -X15 -X16 -X17,data = credit_card, family = binomial)\n",
    "summary(credit.model)"
   ]
  },
  {
   "cell_type": "code",
   "execution_count": 19,
   "metadata": {
    "collapsed": false
   },
   "outputs": [
    {
     "data": {
      "text/plain": [
       "\n",
       "Call:\n",
       "glm(formula = Y ~ . - X3 - X9 - X10 - X11 - X14 - X15 - X16 - \n",
       "    X17 - X20, family = binomial, data = credit_card, subset = train)\n",
       "\n",
       "Deviance Residuals: \n",
       "    Min       1Q   Median       3Q      Max  \n",
       "-3.1403  -0.7003  -0.5455  -0.2924   3.9866  \n",
       "\n",
       "Coefficients:\n",
       "              Estimate Std. Error z value Pr(>|z|)    \n",
       "(Intercept) -1.093e+00  9.799e-02 -11.151  < 2e-16 ***\n",
       "X1          -6.839e-07  1.790e-07  -3.820 0.000133 ***\n",
       "X22         -1.061e-01  3.667e-02  -2.893 0.003812 ** \n",
       "X42         -1.723e-01  4.096e-02  -4.207 2.59e-05 ***\n",
       "X43         -3.984e-02  1.628e-01  -0.245 0.806639    \n",
       "X5           5.822e-03  2.164e-03   2.691 0.007127 ** \n",
       "X6           5.802e-01  2.104e-02  27.574  < 2e-16 ***\n",
       "X7           9.024e-02  2.393e-02   3.771 0.000163 ***\n",
       "X8           1.270e-01  2.223e-02   5.714 1.10e-08 ***\n",
       "X12         -7.141e-06  1.381e-06  -5.171 2.32e-07 ***\n",
       "X13          5.605e-06  1.436e-06   3.903 9.48e-05 ***\n",
       "X18         -1.522e-05  2.743e-06  -5.548 2.89e-08 ***\n",
       "X19         -6.357e-06  1.986e-06  -3.201 0.001369 ** \n",
       "X21         -3.838e-06  1.849e-06  -2.076 0.037891 *  \n",
       "X22         -2.519e-06  1.744e-06  -1.444 0.148687    \n",
       "X23         -2.101e-06  1.558e-06  -1.349 0.177303    \n",
       "---\n",
       "Signif. codes:  0 '***' 0.001 '**' 0.01 '*' 0.05 '.' 0.1 ' ' 1\n",
       "\n",
       "(Dispersion parameter for binomial family taken to be 1)\n",
       "\n",
       "    Null deviance: 22254  on 20999  degrees of freedom\n",
       "Residual deviance: 19555  on 20984  degrees of freedom\n",
       "AIC: 19587\n",
       "\n",
       "Number of Fisher Scoring iterations: 5\n"
      ]
     },
     "metadata": {},
     "output_type": "display_data"
    }
   ],
   "source": [
    "train <- sample(nrow(credit_card), 0.7*nrow(credit_card))\n",
    "credit.model_2 <- glm(Y~.-X3 -X9 -X10 -X11 -X14 -X15 -X16 -X17 -X20,data = credit_card, family = binomial, subset = train)\n",
    "summary(credit.model_2)"
   ]
  },
  {
   "cell_type": "code",
   "execution_count": 20,
   "metadata": {
    "collapsed": false
   },
   "outputs": [
    {
     "data": {
      "text/plain": [
       "\n",
       "Call:\n",
       "glm(formula = Y ~ . - X3 - X4 - X9 - X10 - X11 - X14 - X15 - \n",
       "    X16 - X17 - X20 - X21 - X23, family = binomial, data = credit_card, \n",
       "    subset = train)\n",
       "\n",
       "Deviance Residuals: \n",
       "    Min       1Q   Median       3Q      Max  \n",
       "-3.1756  -0.6994  -0.5473  -0.3002   3.7995  \n",
       "\n",
       "Coefficients:\n",
       "              Estimate Std. Error z value Pr(>|z|)    \n",
       "(Intercept) -1.353e+00  7.673e-02 -17.629  < 2e-16 ***\n",
       "X1          -7.141e-07  1.762e-07  -4.052 5.07e-05 ***\n",
       "X22         -9.030e-02  3.646e-02  -2.477 0.013264 *  \n",
       "X5           1.017e-02  1.897e-03   5.362 8.22e-08 ***\n",
       "X6           5.825e-01  2.103e-02  27.699  < 2e-16 ***\n",
       "X7           9.099e-02  2.391e-02   3.805 0.000142 ***\n",
       "X8           1.275e-01  2.224e-02   5.735 9.77e-09 ***\n",
       "X12         -7.460e-06  1.380e-06  -5.406 6.45e-08 ***\n",
       "X13          5.802e-06  1.438e-06   4.035 5.45e-05 ***\n",
       "X18         -1.601e-05  2.759e-06  -5.804 6.48e-09 ***\n",
       "X19         -6.857e-06  2.005e-06  -3.420 0.000625 ***\n",
       "X22         -3.025e-06  1.764e-06  -1.715 0.086326 .  \n",
       "---\n",
       "Signif. codes:  0 '***' 0.001 '**' 0.01 '*' 0.05 '.' 0.1 ' ' 1\n",
       "\n",
       "(Dispersion parameter for binomial family taken to be 1)\n",
       "\n",
       "    Null deviance: 22254  on 20999  degrees of freedom\n",
       "Residual deviance: 19580  on 20988  degrees of freedom\n",
       "AIC: 19604\n",
       "\n",
       "Number of Fisher Scoring iterations: 5\n"
      ]
     },
     "metadata": {},
     "output_type": "display_data"
    }
   ],
   "source": [
    "credit.model_3 <- glm(Y~.-X3 -X4 -X9 -X10 -X11 -X14 -X15 -X16 -X17 -X20 -X21 -X23,data = credit_card, family = binomial, subset = train)\n",
    "summary(credit.model_3)"
   ]
  },
  {
   "cell_type": "code",
   "execution_count": 21,
   "metadata": {
    "collapsed": false
   },
   "outputs": [
    {
     "data": {
      "text/plain": [
       "   credit.pred\n",
       "       0    1\n",
       "  0 6814  219\n",
       "  1 1485  482"
      ]
     },
     "metadata": {},
     "output_type": "display_data"
    }
   ],
   "source": [
    "credit.pred <- rep(0, 9000)\n",
    "credit.probs <- predict(credit.model_2, credit_card[-train,], type = \"response\")\n",
    "credit.pred[credit.probs > .5] <- 1\n",
    "table(credit_card[-train,]$Y, credit.pred)"
   ]
  },
  {
   "cell_type": "markdown",
   "metadata": {},
   "source": [
    "#### The above model predicted about 81.02% of the data."
   ]
  },
  {
   "cell_type": "code",
   "execution_count": 22,
   "metadata": {
    "collapsed": false
   },
   "outputs": [
    {
     "data": {
      "text/plain": [
       "   credit.pred\n",
       "       0    1\n",
       "  0 6818  215\n",
       "  1 1486  481"
      ]
     },
     "metadata": {},
     "output_type": "display_data"
    }
   ],
   "source": [
    "credit.pred <- rep(0, 9000)\n",
    "credit.probs <- predict(credit.model_3, credit_card[-train,], type = \"response\")\n",
    "credit.pred[credit.probs > .5] <- 1\n",
    "table(credit_card[-train,]$Y, credit.pred)"
   ]
  },
  {
   "cell_type": "markdown",
   "metadata": {},
   "source": [
    "#### The best is 81.11%"
   ]
  },
  {
   "cell_type": "code",
   "execution_count": 23,
   "metadata": {
    "collapsed": false
   },
   "outputs": [
    {
     "data": {
      "text/plain": [
       "   credit.pred\n",
       "       0    1\n",
       "  0 6848  185\n",
       "  1 1537  430"
      ]
     },
     "metadata": {},
     "output_type": "display_data"
    }
   ],
   "source": [
    "credit.model_few <- glm(Y~X5+X6+X8+X18+X19,data = credit_card, family = binomial, subset = train)\n",
    "credit.pred <- rep(0, 9000)\n",
    "credit.probs <- predict(credit.model_few, credit_card[-train,], type = \"response\")\n",
    "credit.pred[credit.probs > .5] <- 1\n",
    "table(credit_card[-train,]$Y, credit.pred)"
   ]
  },
  {
   "cell_type": "markdown",
   "metadata": {
    "collapsed": true
   },
   "source": [
    "#### The above has 80.7%"
   ]
  },
  {
   "cell_type": "code",
   "execution_count": 24,
   "metadata": {
    "collapsed": false
   },
   "outputs": [
    {
     "data": {
      "text/plain": [
       "   credit.pred\n",
       "       0    1\n",
       "  0 6958   75\n",
       "  1 1803  164"
      ]
     },
     "metadata": {},
     "output_type": "display_data"
    }
   ],
   "source": [
    "credit.pred <- rep(0, 9000)\n",
    "credit.pred[credit.probs > .6] <- 1\n",
    "table(credit_card[-train,]$Y, credit.pred)"
   ]
  },
  {
   "cell_type": "code",
   "execution_count": 25,
   "metadata": {
    "collapsed": false
   },
   "outputs": [
    {
     "data": {
      "text/plain": [
       "   credit.pred\n",
       "       0    1\n",
       "  0 6896  137\n",
       "  1 1633  334"
      ]
     },
     "metadata": {},
     "output_type": "display_data"
    }
   ],
   "source": [
    "credit.pred <- rep(0, 9000)\n",
    "credit.pred[credit.probs > .55] <- 1\n",
    "table(credit_card[-train,]$Y, credit.pred)"
   ]
  },
  {
   "cell_type": "markdown",
   "metadata": {},
   "source": [
    "#### The above is about 79.8%"
   ]
  },
  {
   "cell_type": "code",
   "execution_count": 26,
   "metadata": {
    "collapsed": false
   },
   "outputs": [
    {
     "data": {
      "text/plain": [
       "   credit.pred\n",
       "       0    1\n",
       "  0 6583  450\n",
       "  1 1173  794"
      ]
     },
     "metadata": {},
     "output_type": "display_data"
    }
   ],
   "source": [
    "credit.pred <- rep(0, 9000)\n",
    "credit.pred[credit.probs > .4] <- 1\n",
    "table(credit_card[-train,]$Y, credit.pred)"
   ]
  },
  {
   "cell_type": "markdown",
   "metadata": {},
   "source": [
    "#### The above is about 81.87%"
   ]
  },
  {
   "cell_type": "code",
   "execution_count": 27,
   "metadata": {
    "collapsed": false
   },
   "outputs": [
    {
     "data": {
      "text/plain": [
       "   credit.pred\n",
       "       0    1\n",
       "  0 6459  574\n",
       "  1 1097  870"
      ]
     },
     "metadata": {},
     "output_type": "display_data"
    }
   ],
   "source": [
    "credit.pred <- rep(0, 9000)\n",
    "credit.pred[credit.probs > .33] <- 1\n",
    "table(credit_card[-train,]$Y, credit.pred)"
   ]
  },
  {
   "cell_type": "markdown",
   "metadata": {},
   "source": [
    "#### The above is 81.37%"
   ]
  },
  {
   "cell_type": "markdown",
   "metadata": {
    "collapsed": true
   },
   "source": [
    "## Now let's try PCA"
   ]
  },
  {
   "cell_type": "code",
   "execution_count": 28,
   "metadata": {
    "collapsed": true
   },
   "outputs": [],
   "source": [
    "credit_card.mm <- model.matrix(Y~. -1, data = credit_card)"
   ]
  },
  {
   "cell_type": "code",
   "execution_count": 29,
   "metadata": {
    "collapsed": true
   },
   "outputs": [],
   "source": [
    "pca_credit <- prcomp(credit_card.mm, scale. = TRUE)"
   ]
  },
  {
   "cell_type": "code",
   "execution_count": 30,
   "metadata": {
    "collapsed": false
   },
   "outputs": [
    {
     "data": {
      "image/png": "[encoded data removed]",
      "text/plain": [
       "plot without title"
      ]
     },
     "metadata": {},
     "output_type": "display_data"
    }
   ],
   "source": [
    "pcaVar <- pca_credit$sdev^2\n",
    "pve = pcaVar / sum(pcaVar)\n",
    "plot(pve)"
   ]
  },
  {
   "cell_type": "code",
   "execution_count": 31,
   "metadata": {
    "collapsed": false
   },
   "outputs": [
    {
     "data": {
      "image/png": "[encoded data removed]",
      "text/plain": [
       "plot without title"
      ]
     },
     "metadata": {},
     "output_type": "display_data"
    }
   ],
   "source": [
    "plot(cumsum(pve), xlab = \"Principal Componant\", ylab = \"Cumulative Proportion of Variance Explained\")"
   ]
  },
  {
   "cell_type": "code",
   "execution_count": 32,
   "metadata": {
    "collapsed": false
   },
   "outputs": [
    {
     "data": {
      "image/png": "[encoded data removed]",
      "text/plain": [
       "plot without title"
      ]
     },
     "metadata": {},
     "output_type": "display_data"
    }
   ],
   "source": [
    "plot(cumsum(pve), xlab = \"Principal Componant\", ylab = \"Cumulative Proportion of Variance Explained\", ylim = c(0,1), type = 'b')"
   ]
  },
  {
   "cell_type": "markdown",
   "metadata": {},
   "source": [
    "#### From above PCA plot, we see that adding more variables is incresing its variance."
   ]
  },
  {
   "cell_type": "markdown",
   "metadata": {},
   "source": [
    "## LDA"
   ]
  },
  {
   "cell_type": "code",
   "execution_count": 33,
   "metadata": {
    "collapsed": true
   },
   "outputs": [],
   "source": [
    "library(MASS)"
   ]
  },
  {
   "cell_type": "code",
   "execution_count": 34,
   "metadata": {
    "collapsed": false
   },
   "outputs": [
    {
     "data": {
      "text/plain": [
       "        Length Class  Mode     \n",
       "prior    2     -none- numeric  \n",
       "counts   2     -none- numeric  \n",
       "means   52     -none- numeric  \n",
       "scaling 26     -none- numeric  \n",
       "lev      2     -none- character\n",
       "svd      1     -none- numeric  \n",
       "N        1     -none- numeric  \n",
       "call     3     -none- call     \n",
       "terms    3     terms  call     \n",
       "xlevels  3     -none- list     "
      ]
     },
     "metadata": {},
     "output_type": "display_data"
    }
   ],
   "source": [
    "credit.lda = lda(credit_card$Y ~., data = credit_card)\n",
    "summary(credit.lda)"
   ]
  },
  {
   "cell_type": "code",
   "execution_count": 35,
   "metadata": {
    "collapsed": false
   },
   "outputs": [
    {
     "data": {
      "text/plain": [
       "Call:\n",
       "lda(credit_card$Y ~ ., data = credit_card)\n",
       "\n",
       "Prior probabilities of groups:\n",
       "     0      1 \n",
       "0.7788 0.2212 \n",
       "\n",
       "Group means:\n",
       "        X1       X22       X32       X33         X34       X42        X43\n",
       "0 178099.7 0.6141500 0.4579695 0.1575073 0.018019175 0.5402756 0.01022941\n",
       "1 130109.7 0.5670585 0.5018083 0.1864075 0.004972875 0.5034659 0.01265823\n",
       "        X5         X6         X7         X8         X9        X10        X11\n",
       "0 35.41727 -0.2112224 -0.3019175 -0.3162558 -0.3556326 -0.3894881 -0.4056240\n",
       "1 35.72574  0.6681736  0.4582580  0.3621157  0.2545208  0.1678722  0.1121157\n",
       "       X12      X13      X14      X15      X16      X17      X18      X19\n",
       "0 51994.23 49717.44 47533.37 43611.17 40530.45 39042.27 6307.337 6640.465\n",
       "1 48509.16 47283.62 45181.60 42036.95 39540.19 38271.44 3397.044 3388.650\n",
       "       X20      X21     X22      X23\n",
       "0 5753.497 5300.529 5248.22 5719.372\n",
       "1 3367.352 3155.627 3219.14 3441.482\n",
       "\n",
       "Coefficients of linear discriminants:\n",
       "              LD1\n",
       "X1  -6.050991e-07\n",
       "X22 -1.097965e-01\n",
       "X32 -9.815742e-02\n",
       "X33 -1.267288e-01\n",
       "X34 -8.364456e-01\n",
       "X42 -2.072097e-01\n",
       "X43 -8.971958e-02\n",
       "X5   8.226485e-03\n",
       "X6   6.971535e-01\n",
       "X7   1.405697e-01\n",
       "X8   8.393903e-02\n",
       "X9   2.347263e-02\n",
       "X10  4.220402e-02\n",
       "X11  5.106104e-03\n",
       "X12 -4.541929e-06\n",
       "X13  1.181904e-06\n",
       "X14  2.573007e-07\n",
       "X15 -4.847288e-07\n",
       "X16 -8.827058e-08\n",
       "X17  7.293111e-07\n",
       "X18 -5.495359e-06\n",
       "X19 -1.570920e-06\n",
       "X20 -1.404633e-07\n",
       "X21 -1.885638e-06\n",
       "X22 -2.407637e-06\n",
       "X23 -7.025023e-07"
      ]
     },
     "metadata": {},
     "output_type": "display_data"
    }
   ],
   "source": [
    "credit.lda"
   ]
  },
  {
   "cell_type": "code",
   "execution_count": 36,
   "metadata": {
    "collapsed": false
   },
   "outputs": [
    {
     "data": {
      "text/plain": [
       "            \n",
       "credit.class    0    1\n",
       "           0 6755 1525\n",
       "           1  190  530"
      ]
     },
     "metadata": {},
     "output_type": "display_data"
    }
   ],
   "source": [
    "train <- sample(nrow(credit_card), 0.7*nrow(credit_card))\n",
    "credit.lda <- lda(credit_card$Y~.,data = credit_card, subset = train)\n",
    "credit.pred = predict(credit.lda, credit_card[-train,])\n",
    "credit.class <- credit.pred$class\n",
    "table(credit.class, credit_card[-train,]$Y)"
   ]
  },
  {
   "cell_type": "code",
   "execution_count": 37,
   "metadata": {
    "collapsed": false
   },
   "outputs": [
    {
     "data": {
      "text/html": [
       "0.809444444444444"
      ],
      "text/latex": [
       "0.809444444444444"
      ],
      "text/markdown": [
       "0.809444444444444"
      ],
      "text/plain": [
       "[1] 0.8094444"
      ]
     },
     "metadata": {},
     "output_type": "display_data"
    }
   ],
   "source": [
    "mean(credit.class == credit_card[-train,]$Y)"
   ]
  },
  {
   "cell_type": "markdown",
   "metadata": {},
   "source": [
    "## QDA"
   ]
  },
  {
   "cell_type": "code",
   "execution_count": 38,
   "metadata": {
    "collapsed": false
   },
   "outputs": [
    {
     "data": {
      "text/plain": [
       "Call:\n",
       "qda(credit_card$Y ~ ., data = credit_card, subset = train)\n",
       "\n",
       "Prior probabilities of groups:\n",
       "        0         1 \n",
       "0.7760952 0.2239048 \n",
       "\n",
       "Group means:\n",
       "        X1       X22       X32       X33         X34       X42        X43\n",
       "0 177304.6 0.6155970 0.4588293 0.1599583 0.017425451 0.5396368 0.01049208\n",
       "1 130369.6 0.5669928 0.5034028 0.1843896 0.004891536 0.5068056 0.01254785\n",
       "        X5         X6         X7         X8         X9        X10        X11\n",
       "0 35.43987 -0.2167751 -0.3076451 -0.3210823 -0.3620076 -0.3991287 -0.4104798\n",
       "1 35.66972  0.6658869  0.4472565  0.3543173  0.2460655  0.1599319  0.1078265\n",
       "       X12      X13      X14      X15      X16      X17      X18      X19\n",
       "0 51697.20 49413.25 47204.89 43387.61 40225.63 38850.26 6271.822 6645.917\n",
       "1 48998.95 47590.73 45305.42 42066.95 39544.16 38310.98 3299.872 3358.687\n",
       "       X20      X21      X22      X23\n",
       "0 5752.481 5275.992 5215.305 5647.508\n",
       "1 3174.787 3250.061 3334.530 3457.929"
      ]
     },
     "metadata": {},
     "output_type": "display_data"
    }
   ],
   "source": [
    "train <- sample(nrow(credit_card), 0.7*nrow(credit_card))\n",
    "credit.qda = qda(credit_card$Y~., data = credit_card, subset = train)\n",
    "credit.qda"
   ]
  },
  {
   "cell_type": "code",
   "execution_count": 39,
   "metadata": {
    "collapsed": false
   },
   "outputs": [
    {
     "data": {
      "text/plain": [
       "   \n",
       "       0    1\n",
       "  0 2101  231\n",
       "  1 4965 1703"
      ]
     },
     "metadata": {},
     "output_type": "display_data"
    }
   ],
   "source": [
    "credit.class <- predict(credit.qda, credit_card[-train,])\n",
    "table(credit.class$class, credit_card[-train,]$Y)"
   ]
  },
  {
   "cell_type": "code",
   "execution_count": 40,
   "metadata": {
    "collapsed": false
   },
   "outputs": [
    {
     "data": {
      "text/html": [
       "0.422666666666667"
      ],
      "text/latex": [
       "0.422666666666667"
      ],
      "text/markdown": [
       "0.422666666666667"
      ],
      "text/plain": [
       "[1] 0.4226667"
      ]
     },
     "metadata": {},
     "output_type": "display_data"
    }
   ],
   "source": [
    "mean(credit.class$class == credit_card[-train,]$Y)"
   ]
  },
  {
   "cell_type": "markdown",
   "metadata": {},
   "source": [
    "## Naive Bayes"
   ]
  },
  {
   "cell_type": "code",
   "execution_count": 43,
   "metadata": {
    "collapsed": false
   },
   "outputs": [
    {
     "name": "stderr",
     "output_type": "stream",
     "text": [
      "Warning message:\n",
      "\"package 'e1071' was built under R version 3.3.3\""
     ]
    }
   ],
   "source": [
    "library(e1071)"
   ]
  },
  {
   "cell_type": "code",
   "execution_count": 46,
   "metadata": {
    "collapsed": false
   },
   "outputs": [],
   "source": [
    "newData <- cbind(credit_card[,\"X2\"], credit_card[,\"X3\"], credit_card[,\"X4\"], credit_card[,\"X5\"], credit_card[,\"Y\"])"
   ]
  },
  {
   "cell_type": "code",
   "execution_count": 47,
   "metadata": {
    "collapsed": true
   },
   "outputs": [],
   "source": [
    "newData$X5 <- NULL"
   ]
  },
  {
   "cell_type": "code",
   "execution_count": 48,
   "metadata": {
    "collapsed": true
   },
   "outputs": [],
   "source": [
    "newData[,4] = as.factor(newData[,4])"
   ]
  },
  {
   "cell_type": "code",
   "execution_count": 49,
   "metadata": {
    "collapsed": false
   },
   "outputs": [
    {
     "data": {
      "text/plain": [
       " X2        X3        X4        Y        \n",
       " 1:11888   1:10599   1:13713   0:23364  \n",
       " 2:18112   2:14030   2:15964   1: 6636  \n",
       "           3: 4917   3:  323            \n",
       "           4:  454                      "
      ]
     },
     "metadata": {},
     "output_type": "display_data"
    }
   ],
   "source": [
    "summary(newData)"
   ]
  },
  {
   "cell_type": "code",
   "execution_count": 50,
   "metadata": {
    "collapsed": true
   },
   "outputs": [],
   "source": [
    "train <- sample(30000, 24000)"
   ]
  },
  {
   "cell_type": "code",
   "execution_count": 51,
   "metadata": {
    "collapsed": true
   },
   "outputs": [],
   "source": [
    "nb.model <- naiveBayes(newData$Y~., data = newData, subset = train)"
   ]
  },
  {
   "cell_type": "code",
   "execution_count": 52,
   "metadata": {
    "collapsed": true
   },
   "outputs": [],
   "source": [
    "nb.pred <- predict(nb.model, newData[-train, -4])"
   ]
  },
  {
   "cell_type": "code",
   "execution_count": 53,
   "metadata": {
    "collapsed": false
   },
   "outputs": [
    {
     "data": {
      "text/plain": [
       "       \n",
       "nb.pred    0    1\n",
       "      0 4637 1363\n",
       "      1    0    0"
      ]
     },
     "metadata": {},
     "output_type": "display_data"
    }
   ],
   "source": [
    "table(nb.pred,newData[-train, 4])"
   ]
  },
  {
   "cell_type": "markdown",
   "metadata": {},
   "source": [
    "#### 77.2%"
   ]
  },
  {
   "cell_type": "code",
   "execution_count": 54,
   "metadata": {
    "collapsed": true
   },
   "outputs": [],
   "source": [
    "newData <- cbind(credit_card[,\"X2\"], credit_card[,\"X3\"], credit_card[,\"X4\"], credit_card[,\"X5\"], credit_card[,\"Y\"])"
   ]
  },
  {
   "cell_type": "code",
   "execution_count": 55,
   "metadata": {
    "collapsed": true
   },
   "outputs": [],
   "source": [
    "newData[,5] = as.factor(newData[,5])"
   ]
  },
  {
   "cell_type": "code",
   "execution_count": 56,
   "metadata": {
    "collapsed": true
   },
   "outputs": [],
   "source": [
    "train <- sample(30000, 24000)"
   ]
  },
  {
   "cell_type": "code",
   "execution_count": 57,
   "metadata": {
    "collapsed": false
   },
   "outputs": [
    {
     "data": {
      "text/plain": [
       "       \n",
       "nb.pred    0    1\n",
       "      0 4654 1345\n",
       "      1    1    0"
      ]
     },
     "metadata": {},
     "output_type": "display_data"
    }
   ],
   "source": [
    "nb.model <- naiveBayes(newData$Y~., data = newData, subset = train)\n",
    "nb.pred <- predict(nb.model, newData[-train, -5])\n",
    "table(nb.pred,newData[-train, 5])"
   ]
  },
  {
   "cell_type": "markdown",
   "metadata": {},
   "source": [
    "#### 77.5%"
   ]
  },
  {
   "cell_type": "code",
   "execution_count": 58,
   "metadata": {
    "collapsed": true
   },
   "outputs": [],
   "source": [
    "newData <- cbind(credit_card[,\"X1\"],credit_card[,\"X2\"], credit_card[,\"X4\"], credit_card[,\"X5\"],credit_card[,\"X6\"],credit_card[,\"X7\"],credit_card[,\"X12\"],credit_card[,\"X18\"],credit_card[,\"X19\"], credit_card[,\"Y\"])"
   ]
  },
  {
   "cell_type": "code",
   "execution_count": 59,
   "metadata": {
    "collapsed": true
   },
   "outputs": [],
   "source": [
    "newData[,10] <- as.factor(newData[,10])"
   ]
  },
  {
   "cell_type": "code",
   "execution_count": 60,
   "metadata": {
    "collapsed": true
   },
   "outputs": [],
   "source": [
    "train <- sample(30000, 24000)"
   ]
  },
  {
   "cell_type": "code",
   "execution_count": 61,
   "metadata": {
    "collapsed": true
   },
   "outputs": [],
   "source": [
    "nb.model <- naiveBayes(newData$Y~., data = newData, subset = train)"
   ]
  },
  {
   "cell_type": "code",
   "execution_count": 62,
   "metadata": {
    "collapsed": true
   },
   "outputs": [],
   "source": [
    "nb.pred <- predict(nb.model, newData[-train, -10])"
   ]
  },
  {
   "cell_type": "code",
   "execution_count": 63,
   "metadata": {
    "collapsed": false
   },
   "outputs": [
    {
     "data": {
      "text/plain": [
       "       \n",
       "nb.pred    0    1\n",
       "      0 4093  623\n",
       "      1  624  660"
      ]
     },
     "metadata": {},
     "output_type": "display_data"
    }
   ],
   "source": [
    "table(nb.pred,newData[-train, 10])"
   ]
  },
  {
   "cell_type": "markdown",
   "metadata": {},
   "source": [
    "#### 79.2%"
   ]
  },
  {
   "cell_type": "code",
   "execution_count": null,
   "metadata": {
    "collapsed": true
   },
   "outputs": [],
   "source": []
  }
 ],
 "metadata": {
  "kernelspec": {
   "display_name": "R",
   "language": "R",
   "name": "ir"
  },
  "language_info": {
   "codemirror_mode": "r",
   "file_extension": ".r",
   "mimetype": "text/x-r-source",
   "name": "R",
   "pygments_lexer": "r",
   "version": "3.3.2"
  }
 },
 "nbformat": 4,
 "nbformat_minor": 2
}
